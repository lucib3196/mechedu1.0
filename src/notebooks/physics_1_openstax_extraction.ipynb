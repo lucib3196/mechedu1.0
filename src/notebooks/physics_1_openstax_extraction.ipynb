{
 "cells": [
  {
   "cell_type": "code",
   "execution_count": 7,
   "metadata": {},
   "outputs": [
    {
     "name": "stdout",
     "output_type": "stream",
     "text": [
      "[]\n"
     ]
    }
   ],
   "source": [
    "import requests\n",
    "from bs4 import BeautifulSoup\n",
    "\n",
    "url = 'https://openstax.org/books/university-physics-volume-1/pages/1-introduction'\n",
    "response = requests.get(url)\n",
    "\n",
    "if response.status_code == 200:\n",
    "    soup = BeautifulSoup(response.text, 'html.parser')\n",
    "    # print(soup.prettify())  # Print the formatted HTML\n",
    "else:\n",
    "    print('Cannot Read HTML')\n",
    "    \n",
    "all_lists = soup.find_all(lists = soup.find_all(['ul', 'ol']))\n",
    "print(all_lists)\n",
    "for lst in all_lists:\n",
    "    print(f\"List Type: {lst.name}\")\n",
    "    items = lst.find_all('li')\n",
    "    for item in items:\n",
    "        print(f\" - {item.text}\")"
   ]
  }
 ],
 "metadata": {
  "kernelspec": {
   "display_name": ".venv",
   "language": "python",
   "name": "python3"
  },
  "language_info": {
   "codemirror_mode": {
    "name": "ipython",
    "version": 3
   },
   "file_extension": ".py",
   "mimetype": "text/x-python",
   "name": "python",
   "nbconvert_exporter": "python",
   "pygments_lexer": "ipython3",
   "version": "3.11.9"
  }
 },
 "nbformat": 4,
 "nbformat_minor": 2
}
